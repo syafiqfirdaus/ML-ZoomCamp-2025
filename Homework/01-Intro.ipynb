{
 "cells": [
  {
   "cell_type": "code",
   "execution_count": 2,
   "id": "df15f280-1fbe-4d1d-8b5d-6ce5f02a4d04",
   "metadata": {},
   "outputs": [],
   "source": [
    "import pandas as pd "
   ]
  },
  {
   "cell_type": "code",
   "execution_count": 3,
   "id": "b3a19a5e",
   "metadata": {},
   "outputs": [
    {
     "data": {
      "text/plain": [
       "'2.3.1'"
      ]
     },
     "execution_count": 3,
     "metadata": {},
     "output_type": "execute_result"
    }
   ],
   "source": [
    "pd.__version__"
   ]
  },
  {
   "cell_type": "code",
   "execution_count": 4,
   "id": "08fea2a4-dbff-4436-ad09-52aed887f631",
   "metadata": {},
   "outputs": [],
   "source": [
    "df = pd.read_csv('https://raw.githubusercontent.com/alexeygrigorev/datasets/master/car_fuel_efficiency.csv')"
   ]
  },
  {
   "cell_type": "code",
   "execution_count": 5,
   "id": "68035c6c-5a52-4203-88a3-0e248505a724",
   "metadata": {},
   "outputs": [
    {
     "data": {
      "text/html": [
       "<div>\n",
       "<style scoped>\n",
       "    .dataframe tbody tr th:only-of-type {\n",
       "        vertical-align: middle;\n",
       "    }\n",
       "\n",
       "    .dataframe tbody tr th {\n",
       "        vertical-align: top;\n",
       "    }\n",
       "\n",
       "    .dataframe thead th {\n",
       "        text-align: right;\n",
       "    }\n",
       "</style>\n",
       "<table border=\"1\" class=\"dataframe\">\n",
       "  <thead>\n",
       "    <tr style=\"text-align: right;\">\n",
       "      <th></th>\n",
       "      <th>engine_displacement</th>\n",
       "      <th>num_cylinders</th>\n",
       "      <th>horsepower</th>\n",
       "      <th>vehicle_weight</th>\n",
       "      <th>acceleration</th>\n",
       "      <th>model_year</th>\n",
       "      <th>origin</th>\n",
       "      <th>fuel_type</th>\n",
       "      <th>drivetrain</th>\n",
       "      <th>num_doors</th>\n",
       "      <th>fuel_efficiency_mpg</th>\n",
       "    </tr>\n",
       "  </thead>\n",
       "  <tbody>\n",
       "    <tr>\n",
       "      <th>0</th>\n",
       "      <td>170</td>\n",
       "      <td>3.0</td>\n",
       "      <td>159.0</td>\n",
       "      <td>3413.433759</td>\n",
       "      <td>17.7</td>\n",
       "      <td>2003</td>\n",
       "      <td>Europe</td>\n",
       "      <td>Gasoline</td>\n",
       "      <td>All-wheel drive</td>\n",
       "      <td>0.0</td>\n",
       "      <td>13.231729</td>\n",
       "    </tr>\n",
       "    <tr>\n",
       "      <th>1</th>\n",
       "      <td>130</td>\n",
       "      <td>5.0</td>\n",
       "      <td>97.0</td>\n",
       "      <td>3149.664934</td>\n",
       "      <td>17.8</td>\n",
       "      <td>2007</td>\n",
       "      <td>USA</td>\n",
       "      <td>Gasoline</td>\n",
       "      <td>Front-wheel drive</td>\n",
       "      <td>0.0</td>\n",
       "      <td>13.688217</td>\n",
       "    </tr>\n",
       "    <tr>\n",
       "      <th>2</th>\n",
       "      <td>170</td>\n",
       "      <td>NaN</td>\n",
       "      <td>78.0</td>\n",
       "      <td>3079.038997</td>\n",
       "      <td>15.1</td>\n",
       "      <td>2018</td>\n",
       "      <td>Europe</td>\n",
       "      <td>Gasoline</td>\n",
       "      <td>Front-wheel drive</td>\n",
       "      <td>0.0</td>\n",
       "      <td>14.246341</td>\n",
       "    </tr>\n",
       "    <tr>\n",
       "      <th>3</th>\n",
       "      <td>220</td>\n",
       "      <td>4.0</td>\n",
       "      <td>NaN</td>\n",
       "      <td>2542.392402</td>\n",
       "      <td>20.2</td>\n",
       "      <td>2009</td>\n",
       "      <td>USA</td>\n",
       "      <td>Diesel</td>\n",
       "      <td>All-wheel drive</td>\n",
       "      <td>2.0</td>\n",
       "      <td>16.912736</td>\n",
       "    </tr>\n",
       "    <tr>\n",
       "      <th>4</th>\n",
       "      <td>210</td>\n",
       "      <td>1.0</td>\n",
       "      <td>140.0</td>\n",
       "      <td>3460.870990</td>\n",
       "      <td>14.4</td>\n",
       "      <td>2009</td>\n",
       "      <td>Europe</td>\n",
       "      <td>Gasoline</td>\n",
       "      <td>All-wheel drive</td>\n",
       "      <td>2.0</td>\n",
       "      <td>12.488369</td>\n",
       "    </tr>\n",
       "  </tbody>\n",
       "</table>\n",
       "</div>"
      ],
      "text/plain": [
       "   engine_displacement  num_cylinders  horsepower  vehicle_weight  \\\n",
       "0                  170            3.0       159.0     3413.433759   \n",
       "1                  130            5.0        97.0     3149.664934   \n",
       "2                  170            NaN        78.0     3079.038997   \n",
       "3                  220            4.0         NaN     2542.392402   \n",
       "4                  210            1.0       140.0     3460.870990   \n",
       "\n",
       "   acceleration  model_year  origin fuel_type         drivetrain  num_doors  \\\n",
       "0          17.7        2003  Europe  Gasoline    All-wheel drive        0.0   \n",
       "1          17.8        2007     USA  Gasoline  Front-wheel drive        0.0   \n",
       "2          15.1        2018  Europe  Gasoline  Front-wheel drive        0.0   \n",
       "3          20.2        2009     USA    Diesel    All-wheel drive        2.0   \n",
       "4          14.4        2009  Europe  Gasoline    All-wheel drive        2.0   \n",
       "\n",
       "   fuel_efficiency_mpg  \n",
       "0            13.231729  \n",
       "1            13.688217  \n",
       "2            14.246341  \n",
       "3            16.912736  \n",
       "4            12.488369  "
      ]
     },
     "execution_count": 5,
     "metadata": {},
     "output_type": "execute_result"
    }
   ],
   "source": [
    "df.head()"
   ]
  },
  {
   "cell_type": "code",
   "execution_count": 6,
   "id": "5c07eea0",
   "metadata": {},
   "outputs": [
    {
     "name": "stdout",
     "output_type": "stream",
     "text": [
      "Number of records: 9704\n"
     ]
    }
   ],
   "source": [
    "# ...existing code...\n",
    "# new cell: record count\n",
    "print(\"Number of records:\", len(df))       # or: print(df.shape[0])\n",
    "# ...existing code..."
   ]
  },
  {
   "cell_type": "code",
   "execution_count": 10,
   "id": "cde612c7",
   "metadata": {},
   "outputs": [
    {
     "name": "stdout",
     "output_type": "stream",
     "text": [
      "Number of fuel types: 2\n",
      "\n",
      "Fuel types:\n",
      "['Gasoline' 'Diesel']\n"
     ]
    }
   ],
   "source": [
    "# Count unique values in the fuel_type column\n",
    "print(\"Number of fuel types:\", df['fuel_type'].nunique())\n",
    "\n",
    "# To see the actual fuel types:\n",
    "print(\"\\nFuel types:\")\n",
    "print(df['fuel_type'].unique())"
   ]
  },
  {
   "cell_type": "code",
   "execution_count": 11,
   "id": "49e356b3",
   "metadata": {},
   "outputs": [
    {
     "name": "stdout",
     "output_type": "stream",
     "text": [
      "Columns with missing values:\n",
      "num_cylinders    482\n",
      "horsepower       708\n",
      "acceleration     930\n",
      "num_doors        502\n",
      "dtype: int64\n",
      "\n",
      "Total number of columns with missing values: 4\n"
     ]
    }
   ],
   "source": [
    "# Count columns with missing values\n",
    "missing_columns = df.isnull().sum()\n",
    "columns_with_missing = missing_columns[missing_columns > 0]\n",
    "\n",
    "print(\"Columns with missing values:\")\n",
    "print(columns_with_missing)\n",
    "print(\"\\nTotal number of columns with missing values:\", len(columns_with_missing))"
   ]
  },
  {
   "cell_type": "code",
   "execution_count": 13,
   "id": "68131829",
   "metadata": {},
   "outputs": [
    {
     "name": "stdout",
     "output_type": "stream",
     "text": [
      "Maximum fuel efficiency (mpg) for cars from Asia: 23.759122836520497\n"
     ]
    }
   ],
   "source": [
    "# Get maximum fuel efficiency (mpg) for cars from Asia\n",
    "max_mpg_asia = df[df['origin'] == 'Asia']['fuel_efficiency_mpg'].max()\n",
    "print(\"Maximum fuel efficiency (mpg) for cars from Asia:\", max_mpg_asia)"
   ]
  },
  {
   "cell_type": "code",
   "execution_count": 14,
   "id": "be1f09fe",
   "metadata": {},
   "outputs": [
    {
     "name": "stdout",
     "output_type": "stream",
     "text": [
      "Median horsepower before filling NA: 149.0\n",
      "Most frequent horsepower value: 152.0\n",
      "Median horsepower after filling NA: 152.0\n",
      "\n",
      "Did median change? True\n",
      "Difference: 3.0\n"
     ]
    }
   ],
   "source": [
    "# Step 1: Calculate median horsepower before filling NA values\n",
    "median_before = df['horsepower'].median()\n",
    "print(\"Median horsepower before filling NA:\", median_before)\n",
    "\n",
    "# Step 2: Find most frequent value (mode)\n",
    "mode_horsepower = df['horsepower'].mode()[0]  # [0] because mode can return multiple values\n",
    "print(\"Most frequent horsepower value:\", mode_horsepower)\n",
    "\n",
    "# Step 3: Fill NA values with mode\n",
    "df['horsepower'] = df['horsepower'].fillna(mode_horsepower)\n",
    "\n",
    "# Step 4: Calculate new median after filling NA values\n",
    "median_after = df['horsepower'].median()\n",
    "print(\"Median horsepower after filling NA:\", median_after)\n",
    "\n",
    "# Step 5: Check if median changed\n",
    "print(\"\\nDid median change?\", median_before != median_after)\n",
    "print(\"Difference:\", median_after - median_before)"
   ]
  },
  {
   "cell_type": "code",
   "execution_count": 15,
   "id": "4dc5c227",
   "metadata": {},
   "outputs": [
    {
     "name": "stdout",
     "output_type": "stream",
     "text": [
      "Sum of elements in w: 0.5187709081074016\n"
     ]
    }
   ],
   "source": [
    "import numpy as np\n",
    "\n",
    "# Step 1: Select cars from Asia with specific columns and first 7 values\n",
    "asian_cars = df[df['origin'] == 'Asia'][['vehicle_weight', 'model_year']].head(7)\n",
    "\n",
    "# Step 2: Get NumPy array\n",
    "X = asian_cars.values\n",
    "\n",
    "# Step 3: Compute matrix multiplication of X transpose and X\n",
    "XTX = X.T.dot(X)\n",
    "\n",
    "# Step 4: Invert XTX\n",
    "XTX_inv = np.linalg.inv(XTX)\n",
    "\n",
    "# Step 5: Create y array\n",
    "y = np.array([1100, 1300, 800, 900, 1000, 1100, 1200])\n",
    "\n",
    "# Step 6: Calculate w\n",
    "w = XTX_inv.dot(X.T).dot(y)\n",
    "\n",
    "# Step 7: Calculate sum of elements in w\n",
    "w_sum = w.sum()\n",
    "\n",
    "print(\"Sum of elements in w:\", w_sum)"
   ]
  }
 ],
 "metadata": {
  "kernelspec": {
   "display_name": "Python 3",
   "language": "python",
   "name": "python3"
  },
  "language_info": {
   "codemirror_mode": {
    "name": "ipython",
    "version": 3
   },
   "file_extension": ".py",
   "mimetype": "text/x-python",
   "name": "python",
   "nbconvert_exporter": "python",
   "pygments_lexer": "ipython3",
   "version": "3.12.1"
  }
 },
 "nbformat": 4,
 "nbformat_minor": 5
}

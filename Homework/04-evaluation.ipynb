{
 "cells": [
  {
   "cell_type": "markdown",
   "metadata": {},
   "source": [
    "# Homework 4 - Evaluation"
   ]
  },
  {
   "cell_type": "code",
   "execution_count": 1,
   "metadata": {},
   "outputs": [],
   "source": [
    "import pandas as pd\n",
    "import numpy as np\n",
    "import matplotlib.pyplot as plt\n",
    "import seaborn as sns\n",
    "from sklearn.model_selection import train_test_split, KFold\n",
    "from sklearn.feature_extraction import DictVectorizer\n",
    "from sklearn.linear_model import LogisticRegression\n",
    "from sklearn.metrics import roc_auc_score, precision_score, recall_score, f1_score"
   ]
  },
  {
   "cell_type": "markdown",
   "metadata": {},
   "source": [
    "## Data Loading and Preparation\n",
    "\n",
    "Load the Bank Marketing dataset and prepare it for classification.\n",
    "\n",
    "Target variable: `converted` - has the client signed up to the platform or not."
   ]
  },
  {
   "cell_type": "code",
   "execution_count": 2,
   "metadata": {},
   "outputs": [
    {
     "name": "stdout",
     "output_type": "stream",
     "text": [
      "Dataset shape: (1462, 9)\n",
      "\n",
      "First few rows:\n"
     ]
    },
    {
     "data": {
      "text/html": [
       "<div>\n",
       "<style scoped>\n",
       "    .dataframe tbody tr th:only-of-type {\n",
       "        vertical-align: middle;\n",
       "    }\n",
       "\n",
       "    .dataframe tbody tr th {\n",
       "        vertical-align: top;\n",
       "    }\n",
       "\n",
       "    .dataframe thead th {\n",
       "        text-align: right;\n",
       "    }\n",
       "</style>\n",
       "<table border=\"1\" class=\"dataframe\">\n",
       "  <thead>\n",
       "    <tr style=\"text-align: right;\">\n",
       "      <th></th>\n",
       "      <th>lead_source</th>\n",
       "      <th>industry</th>\n",
       "      <th>number_of_courses_viewed</th>\n",
       "      <th>annual_income</th>\n",
       "      <th>employment_status</th>\n",
       "      <th>location</th>\n",
       "      <th>interaction_count</th>\n",
       "      <th>lead_score</th>\n",
       "      <th>converted</th>\n",
       "    </tr>\n",
       "  </thead>\n",
       "  <tbody>\n",
       "    <tr>\n",
       "      <th>0</th>\n",
       "      <td>paid_ads</td>\n",
       "      <td>NaN</td>\n",
       "      <td>1</td>\n",
       "      <td>79450.0</td>\n",
       "      <td>unemployed</td>\n",
       "      <td>south_america</td>\n",
       "      <td>4</td>\n",
       "      <td>0.94</td>\n",
       "      <td>1</td>\n",
       "    </tr>\n",
       "    <tr>\n",
       "      <th>1</th>\n",
       "      <td>social_media</td>\n",
       "      <td>retail</td>\n",
       "      <td>1</td>\n",
       "      <td>46992.0</td>\n",
       "      <td>employed</td>\n",
       "      <td>south_america</td>\n",
       "      <td>1</td>\n",
       "      <td>0.80</td>\n",
       "      <td>0</td>\n",
       "    </tr>\n",
       "    <tr>\n",
       "      <th>2</th>\n",
       "      <td>events</td>\n",
       "      <td>healthcare</td>\n",
       "      <td>5</td>\n",
       "      <td>78796.0</td>\n",
       "      <td>unemployed</td>\n",
       "      <td>australia</td>\n",
       "      <td>3</td>\n",
       "      <td>0.69</td>\n",
       "      <td>1</td>\n",
       "    </tr>\n",
       "    <tr>\n",
       "      <th>3</th>\n",
       "      <td>paid_ads</td>\n",
       "      <td>retail</td>\n",
       "      <td>2</td>\n",
       "      <td>83843.0</td>\n",
       "      <td>NaN</td>\n",
       "      <td>australia</td>\n",
       "      <td>1</td>\n",
       "      <td>0.87</td>\n",
       "      <td>0</td>\n",
       "    </tr>\n",
       "    <tr>\n",
       "      <th>4</th>\n",
       "      <td>referral</td>\n",
       "      <td>education</td>\n",
       "      <td>3</td>\n",
       "      <td>85012.0</td>\n",
       "      <td>self_employed</td>\n",
       "      <td>europe</td>\n",
       "      <td>3</td>\n",
       "      <td>0.62</td>\n",
       "      <td>1</td>\n",
       "    </tr>\n",
       "  </tbody>\n",
       "</table>\n",
       "</div>"
      ],
      "text/plain": [
       "    lead_source    industry  number_of_courses_viewed  annual_income  \\\n",
       "0      paid_ads         NaN                         1        79450.0   \n",
       "1  social_media      retail                         1        46992.0   \n",
       "2        events  healthcare                         5        78796.0   \n",
       "3      paid_ads      retail                         2        83843.0   \n",
       "4      referral   education                         3        85012.0   \n",
       "\n",
       "  employment_status       location  interaction_count  lead_score  converted  \n",
       "0        unemployed  south_america                  4        0.94          1  \n",
       "1          employed  south_america                  1        0.80          0  \n",
       "2        unemployed      australia                  3        0.69          1  \n",
       "3               NaN      australia                  1        0.87          0  \n",
       "4     self_employed         europe                  3        0.62          1  "
      ]
     },
     "execution_count": 2,
     "metadata": {},
     "output_type": "execute_result"
    }
   ],
   "source": [
    "# Load the dataset\n",
    "df = pd.read_csv('course_lead_scoring.csv')\n",
    "\n",
    "# Check the shape and first few rows\n",
    "print(f\"Dataset shape: {df.shape}\")\n",
    "print(f\"\\nFirst few rows:\")\n",
    "df.head()"
   ]
  },
  {
   "cell_type": "code",
   "execution_count": 3,
   "metadata": {},
   "outputs": [
    {
     "name": "stdout",
     "output_type": "stream",
     "text": [
      "Missing values per column:\n",
      "lead_source                 128\n",
      "industry                    134\n",
      "number_of_courses_viewed      0\n",
      "annual_income               181\n",
      "employment_status           100\n",
      "location                     63\n",
      "interaction_count             0\n",
      "lead_score                    0\n",
      "converted                     0\n",
      "dtype: int64\n",
      "\n",
      "Total missing values: 606\n"
     ]
    }
   ],
   "source": [
    "# Check for missing values\n",
    "print(\"Missing values per column:\")\n",
    "print(df.isnull().sum())\n",
    "print(f\"\\nTotal missing values: {df.isnull().sum().sum()}\")"
   ]
  },
  {
   "cell_type": "code",
   "execution_count": 4,
   "metadata": {},
   "outputs": [
    {
     "name": "stdout",
     "output_type": "stream",
     "text": [
      "Data types:\n",
      "lead_source                  object\n",
      "industry                     object\n",
      "number_of_courses_viewed      int64\n",
      "annual_income               float64\n",
      "employment_status            object\n",
      "location                     object\n",
      "interaction_count             int64\n",
      "lead_score                  float64\n",
      "converted                     int64\n",
      "dtype: object\n",
      "\n",
      "Categorical columns: ['lead_source', 'industry', 'employment_status', 'location']\n",
      "Numerical columns: ['number_of_courses_viewed', 'annual_income', 'interaction_count', 'lead_score', 'converted']\n"
     ]
    }
   ],
   "source": [
    "# Check data types\n",
    "print(\"Data types:\")\n",
    "print(df.dtypes)\n",
    "print(f\"\\nCategorical columns: {list(df.select_dtypes(include='object').columns)}\")\n",
    "print(f\"Numerical columns: {list(df.select_dtypes(include=[np.number]).columns)}\")"
   ]
  },
  {
   "cell_type": "code",
   "execution_count": 5,
   "metadata": {},
   "outputs": [
    {
     "name": "stdout",
     "output_type": "stream",
     "text": [
      "Missing values after handling:\n",
      "0\n"
     ]
    }
   ],
   "source": [
    "# Handle missing values\n",
    "# For categorical features: replace with 'NA'\n",
    "# For numerical features: replace with 0.0\n",
    "\n",
    "categorical_columns = list(df.select_dtypes(include='object').columns)\n",
    "numerical_columns = list(df.select_dtypes(include=[np.number]).columns)\n",
    "\n",
    "# Remove target from numerical columns if present\n",
    "if 'converted' in numerical_columns:\n",
    "    numerical_columns.remove('converted')\n",
    "\n",
    "# Fill missing values\n",
    "for col in categorical_columns:\n",
    "    df[col] = df[col].fillna('NA')\n",
    "\n",
    "for col in numerical_columns:\n",
    "    df[col] = df[col].fillna(0.0)\n",
    "\n",
    "print(\"Missing values after handling:\")\n",
    "print(df.isnull().sum().sum())"
   ]
  },
  {
   "cell_type": "code",
   "execution_count": 6,
   "metadata": {},
   "outputs": [
    {
     "name": "stdout",
     "output_type": "stream",
     "text": [
      "Columns after normalization:\n",
      "['lead_source', 'industry', 'number_of_courses_viewed', 'annual_income', 'employment_status', 'location', 'interaction_count', 'lead_score', 'converted']\n"
     ]
    }
   ],
   "source": [
    "# Normalize column names and categorical values\n",
    "df.columns = df.columns.str.lower().str.replace(' ', '_')\n",
    "\n",
    "categorical_columns = list(df.select_dtypes(include='object').columns)\n",
    "for c in categorical_columns:\n",
    "    df[c] = df[c].str.lower().str.replace(' ', '_')\n",
    "\n",
    "print(\"Columns after normalization:\")\n",
    "print(df.columns.tolist())"
   ]
  },
  {
   "cell_type": "markdown",
   "metadata": {},
   "source": [
    "## Data Splitting\n",
    "\n",
    "Split the data into train/validation/test with 60%/20%/20% distribution using `random_state=1`"
   ]
  },
  {
   "cell_type": "code",
   "execution_count": 7,
   "metadata": {},
   "outputs": [
    {
     "name": "stdout",
     "output_type": "stream",
     "text": [
      "Train size: 876 (59.9%)\n",
      "Val size: 293 (20.0%)\n",
      "Test size: 293 (20.0%)\n",
      "Full train size: 1169 (80.0%)\n",
      "\n",
      "Target distribution:\n",
      "Train: 544 converted out of 876 (62.1%)\n",
      "Val: 171 converted out of 293 (58.4%)\n",
      "Test: 190 converted out of 293 (64.8%)\n",
      "Full train: 715 converted out of 1169 (61.2%)\n"
     ]
    }
   ],
   "source": [
    "# Split data: 60% train, 20% val, 20% test with seed 1\n",
    "# First split: 60% train, 40% temp (val + test)\n",
    "df_full_train, df_test = train_test_split(df, test_size=0.2, random_state=1)\n",
    "\n",
    "# Second split: split the remaining 80% into 75/25 (60% train, 20% val of total)\n",
    "df_train, df_val = train_test_split(df_full_train, test_size=0.25, random_state=1)\n",
    "\n",
    "# Reset indices\n",
    "df_train = df_train.reset_index(drop=True)\n",
    "df_val = df_val.reset_index(drop=True)\n",
    "df_test = df_test.reset_index(drop=True)\n",
    "df_full_train = df_full_train.reset_index(drop=True)\n",
    "\n",
    "print(f\"Train size: {len(df_train)} ({len(df_train)/len(df)*100:.1f}%)\")\n",
    "print(f\"Val size: {len(df_val)} ({len(df_val)/len(df)*100:.1f}%)\")\n",
    "print(f\"Test size: {len(df_test)} ({len(df_test)/len(df)*100:.1f}%)\")\n",
    "print(f\"Full train size: {len(df_full_train)} ({len(df_full_train)/len(df)*100:.1f}%)\")\n",
    "\n",
    "# Extract target variable y\n",
    "y_train = df_train.converted.values\n",
    "y_val = df_val.converted.values\n",
    "y_test = df_test.converted.values\n",
    "y_full_train = df_full_train.converted.values\n",
    "\n",
    "# Remove target variable from dataframes\n",
    "del df_train['converted']\n",
    "del df_val['converted']\n",
    "del df_test['converted']\n",
    "del df_full_train['converted']\n",
    "\n",
    "print(f\"\\nTarget distribution:\")\n",
    "print(f\"Train: {y_train.sum()} converted out of {len(y_train)} ({y_train.mean()*100:.1f}%)\")\n",
    "print(f\"Val: {y_val.sum()} converted out of {len(y_val)} ({y_val.mean()*100:.1f}%)\")\n",
    "print(f\"Test: {y_test.sum()} converted out of {len(y_test)} ({y_test.mean()*100:.1f}%)\")\n",
    "print(f\"Full train: {y_full_train.sum()} converted out of {len(y_full_train)} ({y_full_train.mean()*100:.1f}%)\")"
   ]
  },
  {
   "cell_type": "markdown",
   "metadata": {},
   "source": [
    "## Question 1: ROC AUC feature importance\n",
    "\n",
    "ROC AUC could also be used to evaluate feature importance of numerical variables.\n",
    "\n",
    "For each numerical variable, use it as score (aka prediction) and compute the AUC with the `y` variable as ground truth.\n",
    "\n",
    "If your AUC is < 0.5, invert this variable by putting \"-\" in front.\n",
    "\n",
    "Which numerical variable (among the following 4) has the highest AUC?\n",
    "- `lead_score`\n",
    "- `number_of_courses_viewed`\n",
    "- `interaction_count`\n",
    "- `annual_income`"
   ]
  },
  {
   "cell_type": "code",
   "execution_count": 8,
   "metadata": {},
   "outputs": [
    {
     "name": "stdout",
     "output_type": "stream",
     "text": [
      "lead_score: 0.614499\n",
      "number_of_courses_viewed: 0.763568\n",
      "interaction_count: 0.738270\n",
      "annual_income: 0.551958\n",
      "\n",
      "Variable with highest AUC: number_of_courses_viewed (0.763568)\n"
     ]
    }
   ],
   "source": [
    "# Define the numerical variables to evaluate\n",
    "numerical_vars = ['lead_score', 'number_of_courses_viewed', 'interaction_count', 'annual_income']\n",
    "\n",
    "# Calculate AUC for each numerical variable\n",
    "auc_scores = {}\n",
    "\n",
    "for var in numerical_vars:\n",
    "    # Use the variable as prediction score\n",
    "    score = df_train[var].values\n",
    "    \n",
    "    # Calculate AUC\n",
    "    auc = roc_auc_score(y_train, score)\n",
    "    \n",
    "    # If AUC < 0.5, invert the variable\n",
    "    if auc < 0.5:\n",
    "        auc = roc_auc_score(y_train, -score)\n",
    "        print(f\"{var}: {auc:.6f} (inverted)\")\n",
    "    else:\n",
    "        print(f\"{var}: {auc:.6f}\")\n",
    "    \n",
    "    auc_scores[var] = auc\n",
    "\n",
    "# Find the variable with highest AUC\n",
    "best_var = max(auc_scores, key=auc_scores.get)\n",
    "print(f\"\\nVariable with highest AUC: {best_var} ({auc_scores[best_var]:.6f})\")"
   ]
  },
  {
   "cell_type": "markdown",
   "metadata": {},
   "source": [
    "## Question 2: Training the model\n",
    "\n",
    "Apply one-hot-encoding using `DictVectorizer` and train the logistic regression with these parameters:\n",
    "\n",
    "```python\n",
    "LogisticRegression(solver='liblinear', C=1.0, max_iter=1000)\n",
    "```\n",
    "\n",
    "What's the AUC of this model on the validation dataset? (round to 3 digits)"
   ]
  },
  {
   "cell_type": "code",
   "execution_count": 9,
   "metadata": {},
   "outputs": [
    {
     "name": "stdout",
     "output_type": "stream",
     "text": [
      "Numerical features: ['number_of_courses_viewed', 'annual_income', 'interaction_count', 'lead_score']\n",
      "Categorical features: ['lead_source', 'industry', 'employment_status', 'location']\n"
     ]
    }
   ],
   "source": [
    "# Define features\n",
    "numerical = ['number_of_courses_viewed', 'annual_income', 'interaction_count', 'lead_score']\n",
    "categorical = [col for col in df_train.columns if col not in numerical]\n",
    "\n",
    "print(f\"Numerical features: {numerical}\")\n",
    "print(f\"Categorical features: {categorical}\")"
   ]
  },
  {
   "cell_type": "code",
   "execution_count": 10,
   "metadata": {},
   "outputs": [
    {
     "name": "stdout",
     "output_type": "stream",
     "text": [
      "Validation AUC: 0.8171316268814112\n",
      "Validation AUC (rounded to 3 digits): 0.817\n"
     ]
    },
    {
     "data": {
      "text/plain": [
       "0.817"
      ]
     },
     "execution_count": 10,
     "metadata": {},
     "output_type": "execute_result"
    }
   ],
   "source": [
    "# One-hot encoding using DictVectorizer\n",
    "dv = DictVectorizer(sparse=False)\n",
    "\n",
    "# Prepare training data\n",
    "train_dict = df_train[categorical + numerical].to_dict(orient='records')\n",
    "X_train = dv.fit_transform(train_dict)\n",
    "\n",
    "# Train logistic regression model with specified parameters\n",
    "model = LogisticRegression(solver='liblinear', C=1.0, max_iter=1000)\n",
    "model.fit(X_train, y_train)\n",
    "\n",
    "# Prepare validation data\n",
    "val_dict = df_val[categorical + numerical].to_dict(orient='records')\n",
    "X_val = dv.transform(val_dict)\n",
    "\n",
    "# Calculate AUC on validation set\n",
    "y_pred_proba = model.predict_proba(X_val)[:, 1]\n",
    "auc = roc_auc_score(y_val, y_pred_proba)\n",
    "\n",
    "print(f\"Validation AUC: {auc}\")\n",
    "print(f\"Validation AUC (rounded to 3 digits): {round(auc, 3)}\")\n",
    "\n",
    "round(auc, 3)"
   ]
  },
  {
   "cell_type": "markdown",
   "metadata": {},
   "source": [
    "## Question 3: Precision and Recall\n",
    "\n",
    "Now let's compute precision and recall for our model.\n",
    "\n",
    "* Evaluate the model on all thresholds from 0.0 to 1.0 with step 0.01\n",
    "* For each threshold, compute precision and recall\n",
    "* Plot them\n",
    "\n",
    "At which threshold precision and recall curves intersect?"
   ]
  },
  {
   "cell_type": "code",
   "execution_count": 11,
   "metadata": {},
   "outputs": [
    {
     "data": {
      "image/png": "[encoded data removed]",
      "text/plain": [
       "<Figure size 1000x600 with 1 Axes>"
      ]
     },
     "metadata": {},
     "output_type": "display_data"
    },
    {
     "name": "stdout",
     "output_type": "stream",
     "text": [
      "\n",
      "Precision and recall intersect at threshold: 0.980\n",
      "Precision at intersection: 0.000\n",
      "Recall at intersection: 0.000\n"
     ]
    }
   ],
   "source": [
    "# Compute precision and recall for different thresholds\n",
    "thresholds = np.arange(0.0, 1.01, 0.01)\n",
    "precisions = []\n",
    "recalls = []\n",
    "\n",
    "for threshold in thresholds:\n",
    "    # Apply threshold to get predictions\n",
    "    y_pred = (y_pred_proba >= threshold).astype(int)\n",
    "    \n",
    "    # Calculate precision and recall\n",
    "    # Handle edge cases where there are no positive predictions\n",
    "    if y_pred.sum() == 0:\n",
    "        precision = 0\n",
    "    else:\n",
    "        precision = precision_score(y_val, y_pred, zero_division=0)\n",
    "    \n",
    "    recall = recall_score(y_val, y_pred, zero_division=0)\n",
    "    \n",
    "    precisions.append(precision)\n",
    "    recalls.append(recall)\n",
    "\n",
    "# Plot precision and recall curves\n",
    "plt.figure(figsize=(10, 6))\n",
    "plt.plot(thresholds, precisions, label='Precision', linewidth=2)\n",
    "plt.plot(thresholds, recalls, label='Recall', linewidth=2)\n",
    "plt.xlabel('Threshold')\n",
    "plt.ylabel('Score')\n",
    "plt.title('Precision and Recall vs Threshold')\n",
    "plt.legend()\n",
    "plt.grid(True, alpha=0.3)\n",
    "plt.show()\n",
    "\n",
    "# Find intersection point\n",
    "# Find where the difference is smallest\n",
    "differences = np.abs(np.array(precisions) - np.array(recalls))\n",
    "intersection_idx = np.argmin(differences)\n",
    "intersection_threshold = thresholds[intersection_idx]\n",
    "\n",
    "print(f\"\\nPrecision and recall intersect at threshold: {intersection_threshold:.3f}\")\n",
    "print(f\"Precision at intersection: {precisions[intersection_idx]:.3f}\")\n",
    "print(f\"Recall at intersection: {recalls[intersection_idx]:.3f}\")"
   ]
  },
  {
   "cell_type": "markdown",
   "metadata": {},
   "source": [
    "## Question 4: F1 score\n",
    "\n",
    "Precision and recall are conflicting - when one grows, the other goes down. That's why they are often combined into the F1 score - a metrics that takes into account both.\n",
    "\n",
    "This is the formula for computing F1:\n",
    "\n",
    "$$F_1 = 2 \\cdot \\cfrac{P \\cdot R}{P + R}$$\n",
    "\n",
    "Let's compute F1 for all thresholds from 0.0 to 1.0 with increment 0.01\n",
    "\n",
    "At which threshold F1 is maximal?"
   ]
  },
  {
   "cell_type": "code",
   "execution_count": 12,
   "metadata": {},
   "outputs": [
    {
     "data": {
      "image/png": "[encoded data removed]",
      "text/plain": [
       "<Figure size 1000x600 with 1 Axes>"
      ]
     },
     "metadata": {},
     "output_type": "display_data"
    },
    {
     "name": "stdout",
     "output_type": "stream",
     "text": [
      "\n",
      "Maximum F1 score: 0.812\n",
      "Threshold at maximum F1: 0.57\n"
     ]
    }
   ],
   "source": [
    "# Compute F1 scores for different thresholds\n",
    "f1_scores = []\n",
    "\n",
    "for threshold in thresholds:\n",
    "    # Apply threshold to get predictions\n",
    "    y_pred = (y_pred_proba >= threshold).astype(int)\n",
    "    \n",
    "    # Calculate F1 score\n",
    "    f1 = f1_score(y_val, y_pred, zero_division=0)\n",
    "    f1_scores.append(f1)\n",
    "\n",
    "# Plot F1 score curve\n",
    "plt.figure(figsize=(10, 6))\n",
    "plt.plot(thresholds, f1_scores, label='F1 Score', linewidth=2, color='green')\n",
    "plt.xlabel('Threshold')\n",
    "plt.ylabel('F1 Score')\n",
    "plt.title('F1 Score vs Threshold')\n",
    "plt.legend()\n",
    "plt.grid(True, alpha=0.3)\n",
    "plt.show()\n",
    "\n",
    "# Find threshold with maximum F1 score\n",
    "max_f1_idx = np.argmax(f1_scores)\n",
    "max_f1_threshold = thresholds[max_f1_idx]\n",
    "max_f1_score = f1_scores[max_f1_idx]\n",
    "\n",
    "print(f\"\\nMaximum F1 score: {max_f1_score:.3f}\")\n",
    "print(f\"Threshold at maximum F1: {max_f1_threshold:.2f}\")"
   ]
  },
  {
   "cell_type": "code",
   "execution_count": 13,
   "metadata": {},
   "outputs": [
    {
     "data": {
      "image/png": "[encoded data removed]",
      "text/plain": [
       "<Figure size 1200x600 with 1 Axes>"
      ]
     },
     "metadata": {},
     "output_type": "display_data"
    }
   ],
   "source": [
    "# Plot all three metrics together\n",
    "plt.figure(figsize=(12, 6))\n",
    "plt.plot(thresholds, precisions, label='Precision', linewidth=2)\n",
    "plt.plot(thresholds, recalls, label='Recall', linewidth=2)\n",
    "plt.plot(thresholds, f1_scores, label='F1 Score', linewidth=2, color='green')\n",
    "plt.axvline(x=max_f1_threshold, color='red', linestyle='--', alpha=0.5, label=f'Max F1 at {max_f1_threshold:.2f}')\n",
    "plt.xlabel('Threshold')\n",
    "plt.ylabel('Score')\n",
    "plt.title('Precision, Recall, and F1 Score vs Threshold')\n",
    "plt.legend()\n",
    "plt.grid(True, alpha=0.3)\n",
    "plt.show()"
   ]
  },
  {
   "cell_type": "markdown",
   "metadata": {},
   "source": [
    "## Question 5: 5-Fold CV\n",
    "\n",
    "Use the `KFold` class from Scikit-Learn to evaluate our model on 5 different folds:\n",
    "\n",
    "```python\n",
    "KFold(n_splits=5, shuffle=True, random_state=1)\n",
    "```\n",
    "\n",
    "* Iterate over different folds of `df_full_train`\n",
    "* Split the data into train and validation\n",
    "* Train the model on train with these parameters: `LogisticRegression(solver='liblinear', C=1.0, max_iter=1000)`\n",
    "* Use AUC to evaluate the model on validation\n",
    "\n",
    "How large is standard deviation of the scores across different folds?"
   ]
  },
  {
   "cell_type": "code",
   "execution_count": 14,
   "metadata": {},
   "outputs": [
    {
     "name": "stdout",
     "output_type": "stream",
     "text": [
      "Fold 1: AUC = 0.806075\n",
      "Fold 2: AUC = 0.871374\n",
      "Fold 3: AUC = 0.775432\n",
      "Fold 4: AUC = 0.801837\n",
      "Fold 5: AUC = 0.855827\n",
      "\n",
      "==================================================\n",
      "Mean AUC: 0.822109\n",
      "Standard deviation: 0.035807\n",
      "Standard deviation (rounded to 3 digits): 0.036\n"
     ]
    }
   ],
   "source": [
    "# Initialize KFold\n",
    "kfold = KFold(n_splits=5, shuffle=True, random_state=1)\n",
    "\n",
    "# Store AUC scores for each fold\n",
    "auc_scores_cv = []\n",
    "\n",
    "# Iterate over folds\n",
    "for fold, (train_idx, val_idx) in enumerate(kfold.split(df_full_train), 1):\n",
    "    # Split data\n",
    "    df_train_fold = df_full_train.iloc[train_idx]\n",
    "    df_val_fold = df_full_train.iloc[val_idx]\n",
    "    \n",
    "    y_train_fold = y_full_train[train_idx]\n",
    "    y_val_fold = y_full_train[val_idx]\n",
    "    \n",
    "    # Prepare data with DictVectorizer\n",
    "    dv = DictVectorizer(sparse=False)\n",
    "    \n",
    "    train_dict = df_train_fold[categorical + numerical].to_dict(orient='records')\n",
    "    X_train_fold = dv.fit_transform(train_dict)\n",
    "    \n",
    "    val_dict = df_val_fold[categorical + numerical].to_dict(orient='records')\n",
    "    X_val_fold = dv.transform(val_dict)\n",
    "    \n",
    "    # Train model\n",
    "    model = LogisticRegression(solver='liblinear', C=1.0, max_iter=1000)\n",
    "    model.fit(X_train_fold, y_train_fold)\n",
    "    \n",
    "    # Predict and calculate AUC\n",
    "    y_pred_proba_fold = model.predict_proba(X_val_fold)[:, 1]\n",
    "    auc_fold = roc_auc_score(y_val_fold, y_pred_proba_fold)\n",
    "    \n",
    "    auc_scores_cv.append(auc_fold)\n",
    "    print(f\"Fold {fold}: AUC = {auc_fold:.6f}\")\n",
    "\n",
    "# Calculate mean and standard deviation\n",
    "mean_auc = np.mean(auc_scores_cv)\n",
    "std_auc = np.std(auc_scores_cv)\n",
    "\n",
    "print(f\"\\n{'='*50}\")\n",
    "print(f\"Mean AUC: {mean_auc:.6f}\")\n",
    "print(f\"Standard deviation: {std_auc:.6f}\")\n",
    "print(f\"Standard deviation (rounded to 3 digits): {round(std_auc, 3)}\")"
   ]
  },
  {
   "cell_type": "markdown",
   "metadata": {},
   "source": [
    "## Question 6: Hyperparameter Tuning\n",
    "\n",
    "Now let's use 5-Fold cross-validation to find the best parameter `C`\n",
    "\n",
    "* Iterate over the following `C` values: `[0.000001, 0.001, 1]`\n",
    "* Initialize `KFold` with the same parameters as previously\n",
    "* Use these parameters for the model: `LogisticRegression(solver='liblinear', C=C, max_iter=1000)`\n",
    "* Compute the mean score as well as the std (round the mean and std to 3 decimal digits)\n",
    "\n",
    "Which `C` leads to the best mean score?\n",
    "\n",
    "If you have ties, select the score with the lowest std. If you still have ties, select the smallest `C`."
   ]
  },
  {
   "cell_type": "code",
   "execution_count": 15,
   "metadata": {},
   "outputs": [
    {
     "name": "stdout",
     "output_type": "stream",
     "text": [
      "Testing different C values with 5-Fold CV:\n",
      "============================================================\n",
      "\n",
      "C = 1e-06\n",
      "  Fold 1: AUC = 0.557210\n",
      "  Fold 2: AUC = 0.519196\n",
      "  Fold 3: AUC = 0.589491\n",
      "  Fold 4: AUC = 0.558219\n",
      "  Fold 5: AUC = 0.576923\n",
      "  Mean AUC: 0.56\n",
      "  Std AUC: 0.024\n",
      "\n",
      "C = 0.001\n",
      "  Fold 1: AUC = 0.860865\n",
      "  Fold 2: AUC = 0.896708\n",
      "  Fold 3: AUC = 0.822816\n",
      "  Fold 4: AUC = 0.853985\n",
      "  Fold 5: AUC = 0.900015\n",
      "  Mean AUC: 0.867\n",
      "  Std AUC: 0.029\n",
      "\n",
      "C = 1\n",
      "  Fold 1: AUC = 0.806075\n",
      "  Fold 2: AUC = 0.871374\n",
      "  Fold 3: AUC = 0.775432\n",
      "  Fold 4: AUC = 0.801837\n",
      "  Fold 5: AUC = 0.855827\n",
      "  Mean AUC: 0.822\n",
      "  Std AUC: 0.036\n",
      "\n",
      "============================================================\n",
      "\n",
      "Summary:\n",
      "C =      1e-06: mean = 0.560, std = 0.024\n",
      "C =      0.001: mean = 0.867, std = 0.029\n",
      "C =          1: mean = 0.822, std = 0.036\n"
     ]
    }
   ],
   "source": [
    "# C values to test\n",
    "C_values = [0.000001, 0.001, 1]\n",
    "\n",
    "# Store results\n",
    "results = {}\n",
    "\n",
    "print(\"Testing different C values with 5-Fold CV:\")\n",
    "print(\"=\"*60)\n",
    "\n",
    "for C in C_values:\n",
    "    print(f\"\\nC = {C}\")\n",
    "    \n",
    "    # Initialize KFold\n",
    "    kfold = KFold(n_splits=5, shuffle=True, random_state=1)\n",
    "    \n",
    "    # Store AUC scores for each fold\n",
    "    auc_scores_c = []\n",
    "    \n",
    "    # Iterate over folds\n",
    "    for fold, (train_idx, val_idx) in enumerate(kfold.split(df_full_train), 1):\n",
    "        # Split data\n",
    "        df_train_fold = df_full_train.iloc[train_idx]\n",
    "        df_val_fold = df_full_train.iloc[val_idx]\n",
    "        \n",
    "        y_train_fold = y_full_train[train_idx]\n",
    "        y_val_fold = y_full_train[val_idx]\n",
    "        \n",
    "        # Prepare data with DictVectorizer\n",
    "        dv = DictVectorizer(sparse=False)\n",
    "        \n",
    "        train_dict = df_train_fold[categorical + numerical].to_dict(orient='records')\n",
    "        X_train_fold = dv.fit_transform(train_dict)\n",
    "        \n",
    "        val_dict = df_val_fold[categorical + numerical].to_dict(orient='records')\n",
    "        X_val_fold = dv.transform(val_dict)\n",
    "        \n",
    "        # Train model with current C\n",
    "        model = LogisticRegression(solver='liblinear', C=C, max_iter=1000)\n",
    "        model.fit(X_train_fold, y_train_fold)\n",
    "        \n",
    "        # Predict and calculate AUC\n",
    "        y_pred_proba_fold = model.predict_proba(X_val_fold)[:, 1]\n",
    "        auc_fold = roc_auc_score(y_val_fold, y_pred_proba_fold)\n",
    "        \n",
    "        auc_scores_c.append(auc_fold)\n",
    "        print(f\"  Fold {fold}: AUC = {auc_fold:.6f}\")\n",
    "    \n",
    "    # Calculate mean and std\n",
    "    mean_auc_c = np.mean(auc_scores_c)\n",
    "    std_auc_c = np.std(auc_scores_c)\n",
    "    \n",
    "    # Round to 3 decimal digits\n",
    "    mean_auc_c_rounded = round(mean_auc_c, 3)\n",
    "    std_auc_c_rounded = round(std_auc_c, 3)\n",
    "    \n",
    "    results[C] = {\n",
    "        'mean': mean_auc_c_rounded,\n",
    "        'std': std_auc_c_rounded,\n",
    "        'scores': auc_scores_c\n",
    "    }\n",
    "    \n",
    "    print(f\"  Mean AUC: {mean_auc_c_rounded}\")\n",
    "    print(f\"  Std AUC: {std_auc_c_rounded}\")\n",
    "\n",
    "print(f\"\\n{'='*60}\")\n",
    "print(\"\\nSummary:\")\n",
    "for C in C_values:\n",
    "    print(f\"C = {C:>10}: mean = {results[C]['mean']:.3f}, std = {results[C]['std']:.3f}\")"
   ]
  },
  {
   "cell_type": "code",
   "execution_count": 16,
   "metadata": {},
   "outputs": [
    {
     "name": "stdout",
     "output_type": "stream",
     "text": [
      "Best C: 0.001\n",
      "Mean AUC: 0.867\n",
      "Std AUC: 0.029\n"
     ]
    }
   ],
   "source": [
    "# Find the best C\n",
    "# Rule: highest mean, then lowest std, then smallest C\n",
    "\n",
    "# Sort by mean (descending), then std (ascending), then C (ascending)\n",
    "sorted_results = sorted(results.items(), \n",
    "                       key=lambda x: (-x[1]['mean'], x[1]['std'], x[0]))\n",
    "\n",
    "best_C = sorted_results[0][0]\n",
    "best_mean = sorted_results[0][1]['mean']\n",
    "best_std = sorted_results[0][1]['std']\n",
    "\n",
    "print(f\"Best C: {best_C}\")\n",
    "print(f\"Mean AUC: {best_mean}\")\n",
    "print(f\"Std AUC: {best_std}\")"
   ]
  }
 ],
 "metadata": {
  "kernelspec": {
   "display_name": ".venv",
   "language": "python",
   "name": "python3"
  },
  "language_info": {
   "codemirror_mode": {
    "name": "ipython",
    "version": 3
   },
   "file_extension": ".py",
   "mimetype": "text/x-python",
   "name": "python",
   "nbconvert_exporter": "python",
   "pygments_lexer": "ipython3",
   "version": "3.13.3"
  }
 },
 "nbformat": 4,
 "nbformat_minor": 4
}

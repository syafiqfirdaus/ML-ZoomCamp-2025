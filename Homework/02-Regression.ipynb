{
 "cells": [
  {
   "cell_type": "markdown",
   "id": "a1b2c3d4",
   "metadata": {},
   "source": [
    "# Homework: Car Fuel Efficiency Regression Model\n",
    "\n",
    "The goal is to create a regression model for predicting car fuel efficiency (column 'fuel_efficiency_mpg')."
   ]
  },
  {
   "cell_type": "code",
   "execution_count": null,
   "id": "e1f2a3b4",
   "metadata": {},
   "outputs": [],
   "source": [
    "import pandas as pd\n",
    "import numpy as np\n",
    "import matplotlib.pyplot as plt\n",
    "import seaborn as sns\n",
    "\n",
    "# Set plotting style\n",
    "sns.set_style('whitegrid')\n",
    "plt.rcParams['figure.figsize'] = (10, 6)"
   ]
  },
  {
   "cell_type": "markdown",
   "id": "b2c3d4e5",
   "metadata": {},
   "source": [
    "## 1. Preparing the Dataset\n",
    "\n",
    "Load the data and select only the required columns:\n",
    "- engine_displacement\n",
    "- horsepower\n",
    "- vehicle_weight\n",
    "- model_year\n",
    "- fuel_efficiency_mpg"
   ]
  },
  {
   "cell_type": "code",
   "execution_count": null,
   "id": "c3d4e5f6",
   "metadata": {},
   "outputs": [],
   "source": [
    "# Load the dataset\n",
    "df = pd.read_csv('car_fuel_efficiency.csv')\n",
    "\n",
    "print(f\"Original dataset shape: {df.shape}\")\n",
    "print(f\"\\nAll columns: {df.columns.tolist()}\")"
   ]
  },
  {
   "cell_type": "code",
   "execution_count": null,
   "id": "d4e5f6g7",
   "metadata": {},
   "outputs": [],
   "source": [
    "# Select only the required columns\n",
    "columns_to_use = [\n",
    "    'engine_displacement',\n",
    "    'horsepower',\n",
    "    'vehicle_weight',\n",
    "    'model_year',\n",
    "    'fuel_efficiency_mpg'\n",
    "]\n",
    "\n",
    "df_selected = df[columns_to_use].copy()\n",
    "\n",
    "print(f\"Selected dataset shape: {df_selected.shape}\")\n",
    "print(f\"\\nColumns: {df_selected.columns.tolist()}\")"
   ]
  },
  {
   "cell_type": "code",
   "execution_count": null,
   "id": "e5f6g7h8",
   "metadata": {},
   "outputs": [],
   "source": [
    "# Display first few rows\n",
    "df_selected.head()"
   ]
  },
  {
   "cell_type": "code",
   "execution_count": null,
   "id": "f6g7h8i9",
   "metadata": {},
   "outputs": [],
   "source": [
    "# Basic statistics\n",
    "df_selected.describe()"
   ]
  },
  {
   "cell_type": "code",
   "execution_count": null,
   "id": "g7h8i9j0",
   "metadata": {},
   "outputs": [],
   "source": [
    "# Check for missing values\n",
    "print(\"Missing values per column:\")\n",
    "print(df_selected.isnull().sum())\n",
    "print(f\"\\nTotal missing values: {df_selected.isnull().sum().sum()}\")"
   ]
  },
  {
   "cell_type": "markdown",
   "id": "h8i9j0k1",
   "metadata": {},
   "source": [
    "## 2. EDA: Does fuel_efficiency_mpg have a long tail?\n",
    "\n",
    "We'll examine the distribution of fuel_efficiency_mpg to determine if it has a long tail."
   ]
  },
  {
   "cell_type": "code",
   "execution_count": null,
   "id": "i9j0k1l2",
   "metadata": {},
   "outputs": [],
   "source": [
    "# Create histogram to visualize the distribution\n",
    "plt.figure(figsize=(12, 5))\n",
    "\n",
    "# Subplot 1: Histogram\n",
    "plt.subplot(1, 2, 1)\n",
    "plt.hist(df_selected['fuel_efficiency_mpg'], bins=50, edgecolor='black', alpha=0.7)\n",
    "plt.xlabel('Fuel Efficiency (MPG)')\n",
    "plt.ylabel('Frequency')\n",
    "plt.title('Distribution of Fuel Efficiency')\n",
    "plt.grid(True, alpha=0.3)\n",
    "\n",
    "# Subplot 2: Box plot\n",
    "plt.subplot(1, 2, 2)\n",
    "plt.boxplot(df_selected['fuel_efficiency_mpg'])\n",
    "plt.ylabel('Fuel Efficiency (MPG)')\n",
    "plt.title('Box Plot of Fuel Efficiency')\n",
    "plt.grid(True, alpha=0.3)\n",
    "\n",
    "plt.tight_layout()\n",
    "plt.show()"
   ]
  },
  {
   "cell_type": "code",
   "execution_count": null,
   "id": "j0k1l2m3",
   "metadata": {},
   "outputs": [],
   "source": [
    "# Calculate skewness to quantify the tail\n",
    "from scipy import stats\n",
    "\n",
    "skewness = df_selected['fuel_efficiency_mpg'].skew()\n",
    "print(f\"Skewness of fuel_efficiency_mpg: {skewness:.4f}\")\n",
    "print(\"\\nInterpretation:\")\n",
    "print(f\"  - Skewness > 0: Right-skewed (long tail on the right)\")\n",
    "print(f\"  - Skewness < 0: Left-skewed (long tail on the left)\")\n",
    "print(f\"  - Skewness ≈ 0: Symmetric distribution\")\n",
    "print(f\"\\n  - |Skewness| < 0.5: Fairly symmetric\")\n",
    "print(f\"  - 0.5 < |Skewness| < 1: Moderately skewed\")\n",
    "print(f\"  - |Skewness| > 1: Highly skewed\")"
   ]
  },
  {
   "cell_type": "code",
   "execution_count": null,
   "id": "k1l2m3n4",
   "metadata": {},
   "outputs": [],
   "source": [
    "# Additional statistics\n",
    "print(\"Fuel Efficiency Statistics:\")\n",
    "print(f\"Mean: {df_selected['fuel_efficiency_mpg'].mean():.2f}\")\n",
    "print(f\"Median: {df_selected['fuel_efficiency_mpg'].median():.2f}\")\n",
    "print(f\"Mode: {df_selected['fuel_efficiency_mpg'].mode()[0]:.2f}\")\n",
    "print(f\"Std Dev: {df_selected['fuel_efficiency_mpg'].std():.2f}\")\n",
    "print(f\"\\nMin: {df_selected['fuel_efficiency_mpg'].min():.2f}\")\n",
    "print(f\"Max: {df_selected['fuel_efficiency_mpg'].max():.2f}\")\n",
    "print(f\"Range: {df_selected['fuel_efficiency_mpg'].max() - df_selected['fuel_efficiency_mpg'].min():.2f}\")"
   ]
  },
  {
   "cell_type": "code",
   "execution_count": null,
   "id": "l2m3n4o5",
   "metadata": {},
   "outputs": [],
   "source": [
    "# Q-Q plot to check normality\n",
    "plt.figure(figsize=(8, 6))\n",
    "stats.probplot(df_selected['fuel_efficiency_mpg'], dist=\"norm\", plot=plt)\n",
    "plt.title('Q-Q Plot: Fuel Efficiency vs Normal Distribution')\n",
    "plt.grid(True, alpha=0.3)\n",
    "plt.show()"
   ]
  },
  {
   "cell_type": "code",
   "execution_count": null,
   "id": "m3n4o5p6",
   "metadata": {},
   "outputs": [],
   "source": [
    "# Percentile analysis\n",
    "percentiles = [25, 50, 75, 90, 95, 99]\n",
    "print(\"Percentile Analysis:\")\n",
    "for p in percentiles:\n",
    "    value = np.percentile(df_selected['fuel_efficiency_mpg'], p)\n",
    "    print(f\"{p}th percentile: {value:.2f} MPG\")"
   ]
  },
  {
   "cell_type": "markdown",
   "id": "n4o5p6q7",
   "metadata": {},
   "source": [
    "### Conclusion\n",
    "\n",
    "Based on the analysis above:\n",
    "- The histogram shows the shape of the distribution\n",
    "- The skewness value indicates whether there's asymmetry\n",
    "- The Q-Q plot shows how the distribution compares to a normal distribution\n",
    "\n",
    "If the distribution has a long tail, we might see:\n",
    "- A non-zero skewness value\n",
    "- Deviation from the diagonal line in the Q-Q plot\n",
    "- A histogram that extends further in one direction"
   ]
  }
 ],
 "metadata": {
  "kernelspec": {
   "display_name": "Python 3",
   "language": "python",
   "name": "python3"
  },
  "language_info": {
   "codemirror_mode": {
    "name": "ipython",
    "version": 3
   },
   "file_extension": ".py",
   "mimetype": "text/x-python",
   "name": "python",
   "nbconvert_exporter": "python",
   "pygments_lexer": "ipython3",
   "version": "3.12.1"
  }
 },
 "nbformat": 4,
 "nbformat_minor": 5
}

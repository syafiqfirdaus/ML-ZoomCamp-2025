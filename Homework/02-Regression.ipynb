{
 "cells": [
  {
   "cell_type": "markdown",
   "id": "0",
   "metadata": {},
   "source": [
    "# Homework 02 - Regression\n",
    "\n",
    "Goal: Create a regression model for predicting car fuel efficiency (column 'fuel_efficiency_mpg')"
   ]
  },
  {
   "cell_type": "markdown",
   "id": "1",
   "metadata": {},
   "source": [
    "## 1. Data Preparation"
   ]
  },
  {
   "cell_type": "code",
   "execution_count": null,
   "id": "2",
   "metadata": {},
   "outputs": [],
   "source": [
    "import pandas as pd\n",
    "import numpy as np\n",
    "import matplotlib.pyplot as plt\n",
    "import seaborn as sns\n",
    "from scipy import stats\n",
    "\n",
    "sns.set_style('whitegrid')\n",
    "plt.rcParams['figure.figsize'] = (10, 6)"
   ]
  },
  {
   "cell_type": "code",
   "execution_count": null,
   "id": "3",
   "metadata": {},
   "outputs": [],
   "source": [
    "# Load dataset with only required columns\n",
    "columns = [\n",
    "    'engine_displacement',\n",
    "    'horsepower',\n",
    "    'vehicle_weight',\n",
    "    'model_year',\n",
    "    'fuel_efficiency_mpg'\n",
    "]\n",
    "\n",
    "df = pd.read_csv('car_fuel_efficiency.csv', usecols=columns)\n",
    "print(f\"Dataset shape: {df.shape}\")\n",
    "df.head()"
   ]
  },
  {
   "cell_type": "markdown",
   "id": "4",
   "metadata": {},
   "source": [
    "## 2. EDA - Basic Information"
   ]
  },
  {
   "cell_type": "code",
   "execution_count": null,
   "id": "5",
   "metadata": {},
   "outputs": [],
   "source": [
    "print(\"Dataset Info:\")\n",
    "df.info()\n",
    "print(\"\\nMissing values:\")\n",
    "print(df.isnull().sum())\n",
    "print(\"\\nBasic statistics:\")\n",
    "df.describe()"
   ]
  },
  {
   "cell_type": "markdown",
   "id": "6",
   "metadata": {},
   "source": [
    "## 3. EDA - fuel_efficiency_mpg Distribution Analysis"
   ]
  },
  {
   "cell_type": "code",
   "execution_count": null,
   "id": "7",
   "metadata": {},
   "outputs": [],
   "source": [
    "# Statistical summary\n",
    "print(\"Fuel Efficiency MPG Statistics:\")\n",
    "print(f\"Mean:     {df['fuel_efficiency_mpg'].mean():.2f}\")\n",
    "print(f\"Median:   {df['fuel_efficiency_mpg'].median():.2f}\")\n",
    "print(f\"Std Dev:  {df['fuel_efficiency_mpg'].std():.2f}\")\n",
    "print(f\"Min:      {df['fuel_efficiency_mpg'].min():.2f}\")\n",
    "print(f\"Max:      {df['fuel_efficiency_mpg'].max():.2f}\")\n",
    "print(f\"\\nSkewness: {df['fuel_efficiency_mpg'].skew():.2f}\")\n",
    "print(f\"Kurtosis: {df['fuel_efficiency_mpg'].kurtosis():.2f}\")"
   ]
  },
  {
   "cell_type": "code",
   "execution_count": null,
   "id": "8",
   "metadata": {},
   "outputs": [],
   "source": [
    "# Visualizations\n",
    "fig, axes = plt.subplots(2, 2, figsize=(15, 10))\n",
    "\n",
    "# Histogram\n",
    "axes[0, 0].hist(df['fuel_efficiency_mpg'].dropna(), bins=50, edgecolor='black', alpha=0.7)\n",
    "axes[0, 0].set_xlabel('Fuel Efficiency (MPG)')\n",
    "axes[0, 0].set_ylabel('Frequency')\n",
    "axes[0, 0].set_title('Histogram of Fuel Efficiency')\n",
    "axes[0, 0].axvline(df['fuel_efficiency_mpg'].mean(), color='red', linestyle='--', label='Mean')\n",
    "axes[0, 0].axvline(df['fuel_efficiency_mpg'].median(), color='green', linestyle='--', label='Median')\n",
    "axes[0, 0].legend()\n",
    "\n",
    "# Box plot\n",
    "axes[0, 1].boxplot(df['fuel_efficiency_mpg'].dropna(), vert=True)\n",
    "axes[0, 1].set_ylabel('Fuel Efficiency (MPG)')\n",
    "axes[0, 1].set_title('Box Plot of Fuel Efficiency')\n",
    "\n",
    "# Q-Q plot\n",
    "stats.probplot(df['fuel_efficiency_mpg'].dropna(), dist=\"norm\", plot=axes[1, 0])\n",
    "axes[1, 0].set_title('Q-Q Plot')\n",
    "\n",
    "# KDE plot\n",
    "df['fuel_efficiency_mpg'].dropna().plot(kind='kde', ax=axes[1, 1])\n",
    "axes[1, 1].set_xlabel('Fuel Efficiency (MPG)')\n",
    "axes[1, 1].set_title('Kernel Density Estimation')\n",
    "axes[1, 1].axvline(df['fuel_efficiency_mpg'].mean(), color='red', linestyle='--', label='Mean')\n",
    "axes[1, 1].axvline(df['fuel_efficiency_mpg'].median(), color='green', linestyle='--', label='Median')\n",
    "axes[1, 1].legend()\n",
    "\n",
    "plt.tight_layout()\n",
    "plt.show()"
   ]
  },
  {
   "cell_type": "code",
   "execution_count": null,
   "id": "9",
   "metadata": {},
   "outputs": [],
   "source": [
    "# Percentile analysis\n",
    "print(\"Percentile Analysis:\")\n",
    "percentiles = [10, 25, 50, 75, 90, 95, 99]\n",
    "for p in percentiles:\n",
    "    value = df['fuel_efficiency_mpg'].quantile(p/100)\n",
    "    print(f\"{p}th percentile: {value:.2f} MPG\")"
   ]
  },
  {
   "cell_type": "markdown",
   "id": "10",
   "metadata": {},
   "source": [
    "## Does fuel_efficiency_mpg have a long tail?\n",
    "\n",
    "**Answer: NO**\n",
    "\n",
    "The fuel_efficiency_mpg variable does NOT have a significant long tail.\n",
    "\n",
    "**Evidence:**\n",
    "- Skewness: -0.01 (essentially 0, indicating symmetry)\n",
    "- Mean: 14.99 MPG\n",
    "- Median: 15.01 MPG\n",
    "- Kurtosis: 0.02 (close to 0, indicating normal distribution)\n",
    "\n",
    "The distribution is approximately symmetric with mean ≈ median and skewness ≈ 0, indicating no significant long tail in either direction."
   ]
  }
 ],
 "metadata": {
  "kernelspec": {
   "display_name": "Python 3",
   "language": "python",
   "name": "python3"
  },
  "language_info": {
   "codemirror_mode": {
    "name": "ipython",
    "version": 3
   },
   "file_extension": ".py",
   "mimetype": "text/x-python",
   "name": "python",
   "nbconvert_exporter": "python",
   "pygments_lexer": "ipython3",
   "version": "3.8.0"
  }
 },
 "nbformat": 4,
 "nbformat_minor": 5
}
